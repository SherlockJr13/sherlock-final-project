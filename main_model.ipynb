{
 "cells": [
  {
   "cell_type": "markdown",
   "metadata": {},
   "source": [
    "# PERBANDINGAN METODE KLASTER K-MEDOIDS DAN K-MEANS TERHADAP HASIL PERAMALAN KEMISKINAN DI INDONESIA MENGGUNAKAN BPNN\n",
    "### by Riansyah Fazar Ramadhan"
   ]
  },
  {
   "cell_type": "markdown",
   "metadata": {},
   "source": [
    "## 1. Import Dependencies"
   ]
  },
  {
   "cell_type": "code",
   "execution_count": 1,
   "metadata": {},
   "outputs": [
    {
     "name": "stdout",
     "output_type": "stream",
     "text": [
      "WARNING:tensorflow:From c:\\Users\\rians\\AppData\\Local\\Programs\\Python\\Python39\\lib\\site-packages\\keras\\src\\losses.py:2976: The name tf.losses.sparse_softmax_cross_entropy is deprecated. Please use tf.compat.v1.losses.sparse_softmax_cross_entropy instead.\n",
      "\n"
     ]
    }
   ],
   "source": [
    "import pandas as pd\n",
    "import numpy as np\n",
    "from scipy import stats\n",
    "import tensorflow as tf\n",
    "import matplotlib.pyplot as plt\n",
    "from sklearn.model_selection import train_test_split\n",
    "from statsmodels.graphics.tsaplots import plot_acf, plot_pacf\n",
    "from statsmodels.tsa.stattools import acf, pacf\n",
    "from statsmodels.tsa.ar_model import AutoReg"
   ]
  },
  {
   "cell_type": "markdown",
   "metadata": {},
   "source": [
    "## 2. Data Preprocessing"
   ]
  },
  {
   "cell_type": "code",
   "execution_count": 2,
   "metadata": {},
   "outputs": [],
   "source": [
    "data1 = pd.read_excel(\"E:/AKTUARIA FINAL SEASON/DATA/fpdata.xlsx\", sheet_name=\"y\", index_col=0)\n",
    "data2 = pd.read_excel(\"E:/AKTUARIA FINAL SEASON/DATA/fpdata.xlsx\", sheet_name=\"x1\", index_col=0)\n",
    "data3 = pd.read_excel(\"E:/AKTUARIA FINAL SEASON/DATA/fpdata.xlsx\", sheet_name=\"x2\", index_col=0)\n",
    "data4 = pd.read_excel(\"E:/AKTUARIA FINAL SEASON/DATA/fpdata.xlsx\", sheet_name=\"x3\", index_col=0)\n",
    "\n",
    "y = np.array(data1)\n",
    "x1 = np.array(data2)\n",
    "x2 = np.array(data3)\n",
    "x3 = np.array(data4)\n",
    "\n",
    "data1_flat = data1.values.flatten()\n",
    "data2_flat = data2.values.flatten()\n",
    "data3_flat = data3.values.flatten()\n",
    "data4_flat = data4.values.flatten()"
   ]
  },
  {
   "cell_type": "code",
   "execution_count": 3,
   "metadata": {},
   "outputs": [
    {
     "data": {
      "text/html": [
       "<div>\n",
       "<style scoped>\n",
       "    .dataframe tbody tr th:only-of-type {\n",
       "        vertical-align: middle;\n",
       "    }\n",
       "\n",
       "    .dataframe tbody tr th {\n",
       "        vertical-align: top;\n",
       "    }\n",
       "\n",
       "    .dataframe thead th {\n",
       "        text-align: right;\n",
       "    }\n",
       "</style>\n",
       "<table border=\"1\" class=\"dataframe\">\n",
       "  <thead>\n",
       "    <tr style=\"text-align: right;\">\n",
       "      <th></th>\n",
       "      <th>y</th>\n",
       "      <th>x1</th>\n",
       "      <th>x2</th>\n",
       "      <th>x3</th>\n",
       "    </tr>\n",
       "  </thead>\n",
       "  <tbody>\n",
       "    <tr>\n",
       "      <th>0</th>\n",
       "      <td>17.08</td>\n",
       "      <td>-1.970</td>\n",
       "      <td>7.73</td>\n",
       "      <td>0.334</td>\n",
       "    </tr>\n",
       "    <tr>\n",
       "      <th>1</th>\n",
       "      <td>10.53</td>\n",
       "      <td>4.990</td>\n",
       "      <td>6.39</td>\n",
       "      <td>0.336</td>\n",
       "    </tr>\n",
       "    <tr>\n",
       "      <th>2</th>\n",
       "      <td>7.31</td>\n",
       "      <td>5.625</td>\n",
       "      <td>5.99</td>\n",
       "      <td>0.342</td>\n",
       "    </tr>\n",
       "    <tr>\n",
       "      <th>3</th>\n",
       "      <td>8.42</td>\n",
       "      <td>-1.035</td>\n",
       "      <td>6.72</td>\n",
       "      <td>0.364</td>\n",
       "    </tr>\n",
       "    <tr>\n",
       "      <th>4</th>\n",
       "      <td>8.86</td>\n",
       "      <td>4.555</td>\n",
       "      <td>2.73</td>\n",
       "      <td>0.361</td>\n",
       "    </tr>\n",
       "    <tr>\n",
       "      <th>...</th>\n",
       "      <td>...</td>\n",
       "      <td>...</td>\n",
       "      <td>...</td>\n",
       "      <td>...</td>\n",
       "    </tr>\n",
       "    <tr>\n",
       "      <th>573</th>\n",
       "      <td>11.49</td>\n",
       "      <td>4.775</td>\n",
       "      <td>3.04</td>\n",
       "      <td>0.351</td>\n",
       "    </tr>\n",
       "    <tr>\n",
       "      <th>574</th>\n",
       "      <td>16.42</td>\n",
       "      <td>5.780</td>\n",
       "      <td>6.08</td>\n",
       "      <td>0.288</td>\n",
       "    </tr>\n",
       "    <tr>\n",
       "      <th>575</th>\n",
       "      <td>6.46</td>\n",
       "      <td>19.460</td>\n",
       "      <td>4.60</td>\n",
       "      <td>0.300</td>\n",
       "    </tr>\n",
       "    <tr>\n",
       "      <th>576</th>\n",
       "      <td>20.49</td>\n",
       "      <td>3.020</td>\n",
       "      <td>5.53</td>\n",
       "      <td>0.370</td>\n",
       "    </tr>\n",
       "    <tr>\n",
       "      <th>577</th>\n",
       "      <td>26.03</td>\n",
       "      <td>0.710</td>\n",
       "      <td>3.49</td>\n",
       "      <td>0.386</td>\n",
       "    </tr>\n",
       "  </tbody>\n",
       "</table>\n",
       "<p>578 rows × 4 columns</p>\n",
       "</div>"
      ],
      "text/plain": [
       "         y      x1    x2     x3\n",
       "0    17.08  -1.970  7.73  0.334\n",
       "1    10.53   4.990  6.39  0.336\n",
       "2     7.31   5.625  5.99  0.342\n",
       "3     8.42  -1.035  6.72  0.364\n",
       "4     8.86   4.555  2.73  0.361\n",
       "..     ...     ...   ...    ...\n",
       "573  11.49   4.775  3.04  0.351\n",
       "574  16.42   5.780  6.08  0.288\n",
       "575   6.46  19.460  4.60  0.300\n",
       "576  20.49   3.020  5.53  0.370\n",
       "577  26.03   0.710  3.49  0.386\n",
       "\n",
       "[578 rows x 4 columns]"
      ]
     },
     "execution_count": 3,
     "metadata": {},
     "output_type": "execute_result"
    }
   ],
   "source": [
    "data = pd.DataFrame({\n",
    "    'y': data1_flat,\n",
    "    'x1': data2_flat,\n",
    "    'x2': data3_flat,\n",
    "    'x3': data4_flat\n",
    "})\n",
    "data"
   ]
  },
  {
   "cell_type": "markdown",
   "metadata": {},
   "source": [
    "## 3. Descriptive Stats"
   ]
  },
  {
   "cell_type": "code",
   "execution_count": 4,
   "metadata": {},
   "outputs": [
    {
     "data": {
      "text/html": [
       "<div>\n",
       "<style scoped>\n",
       "    .dataframe tbody tr th:only-of-type {\n",
       "        vertical-align: middle;\n",
       "    }\n",
       "\n",
       "    .dataframe tbody tr th {\n",
       "        vertical-align: top;\n",
       "    }\n",
       "\n",
       "    .dataframe thead th {\n",
       "        text-align: right;\n",
       "    }\n",
       "</style>\n",
       "<table border=\"1\" class=\"dataframe\">\n",
       "  <thead>\n",
       "    <tr style=\"text-align: right;\">\n",
       "      <th></th>\n",
       "      <th>y</th>\n",
       "      <th>x1</th>\n",
       "      <th>x2</th>\n",
       "      <th>x3</th>\n",
       "    </tr>\n",
       "  </thead>\n",
       "  <tbody>\n",
       "    <tr>\n",
       "      <th>count</th>\n",
       "      <td>578.000000</td>\n",
       "      <td>578.000000</td>\n",
       "      <td>578.000000</td>\n",
       "      <td>578.000000</td>\n",
       "    </tr>\n",
       "    <tr>\n",
       "      <th>mean</th>\n",
       "      <td>10.814758</td>\n",
       "      <td>4.499152</td>\n",
       "      <td>5.055052</td>\n",
       "      <td>0.353097</td>\n",
       "    </tr>\n",
       "    <tr>\n",
       "      <th>std</th>\n",
       "      <td>5.638554</td>\n",
       "      <td>4.086967</td>\n",
       "      <td>1.805693</td>\n",
       "      <td>0.039766</td>\n",
       "    </tr>\n",
       "    <tr>\n",
       "      <th>min</th>\n",
       "      <td>3.420000</td>\n",
       "      <td>-21.300000</td>\n",
       "      <td>0.880000</td>\n",
       "      <td>0.236000</td>\n",
       "    </tr>\n",
       "    <tr>\n",
       "      <th>25%</th>\n",
       "      <td>6.387500</td>\n",
       "      <td>3.321250</td>\n",
       "      <td>3.720000</td>\n",
       "      <td>0.325000</td>\n",
       "    </tr>\n",
       "    <tr>\n",
       "      <th>50%</th>\n",
       "      <td>9.090000</td>\n",
       "      <td>5.075000</td>\n",
       "      <td>4.680000</td>\n",
       "      <td>0.351000</td>\n",
       "    </tr>\n",
       "    <tr>\n",
       "      <th>75%</th>\n",
       "      <td>13.845000</td>\n",
       "      <td>5.773750</td>\n",
       "      <td>6.170000</td>\n",
       "      <td>0.382000</td>\n",
       "    </tr>\n",
       "    <tr>\n",
       "      <th>max</th>\n",
       "      <td>28.540000</td>\n",
       "      <td>25.860000</td>\n",
       "      <td>10.950000</td>\n",
       "      <td>0.459000</td>\n",
       "    </tr>\n",
       "  </tbody>\n",
       "</table>\n",
       "</div>"
      ],
      "text/plain": [
       "                y          x1          x2          x3\n",
       "count  578.000000  578.000000  578.000000  578.000000\n",
       "mean    10.814758    4.499152    5.055052    0.353097\n",
       "std      5.638554    4.086967    1.805693    0.039766\n",
       "min      3.420000  -21.300000    0.880000    0.236000\n",
       "25%      6.387500    3.321250    3.720000    0.325000\n",
       "50%      9.090000    5.075000    4.680000    0.351000\n",
       "75%     13.845000    5.773750    6.170000    0.382000\n",
       "max     28.540000   25.860000   10.950000    0.459000"
      ]
     },
     "execution_count": 4,
     "metadata": {},
     "output_type": "execute_result"
    }
   ],
   "source": [
    "desc_stat = data.describe()\n",
    "desc_stat"
   ]
  },
  {
   "cell_type": "code",
   "execution_count": 6,
   "metadata": {},
   "outputs": [],
   "source": [
    "writer = pd.ExcelWriter('pooled_data.xlsx', engine='xlsxwriter')\n",
    "with pd.ExcelWriter('pooled_data.xlsx', engine='xlsxwriter') as writer:\n",
    "    data.to_excel(writer, sheet_name='data', index=False)\n",
    "    desc_stat.to_excel(writer, sheet_name='desc_stat')"
   ]
  },
  {
   "cell_type": "markdown",
   "metadata": {},
   "source": [
    "## 4. Terasvirta Linearity Test\n",
    "#### Done in R language, check at terasvirtatest.R"
   ]
  },
  {
   "cell_type": "code",
   "execution_count": 9,
   "metadata": {},
   "outputs": [
    {
     "name": "stdout",
     "output_type": "stream",
     "text": [
      "Augmented Dickey-Fuller Test Results:\n",
      "ADF Statistic: -9.216696012414147\n",
      "p-value: 1.825734467645251e-15\n",
      "Number of Lags Used: 19\n",
      "Number of Observations Used: 558\n",
      "Critical Values:\n",
      "    1%: -3.4421235439968862\n",
      "    5%: -2.866733577794069\n",
      "    10%: -2.569536010842615\n",
      "AIC Value: 3096.3850121272844\n"
     ]
    }
   ],
   "source": [
    "import statsmodels.api as sm\n",
    "\n",
    "# Perform ADF test\n",
    "adf_test = sm.tsa.adfuller(data1_flat)\n",
    "\n",
    "# Extracting the results\n",
    "adf_statistic = adf_test[0]\n",
    "p_value = adf_test[1]\n",
    "used_lag = adf_test[2]\n",
    "n_obs = adf_test[3]\n",
    "critical_values = adf_test[4]\n",
    "aic_value = adf_test[5]\n",
    "\n",
    "# Printing the results with labels\n",
    "print(\"Augmented Dickey-Fuller Test Results:\")\n",
    "print(f\"ADF Statistic: {adf_statistic}\")\n",
    "print(f\"p-value: {p_value}\")\n",
    "print(f\"Number of Lags Used: {used_lag}\")\n",
    "print(f\"Number of Observations Used: {n_obs}\")\n",
    "print(\"Critical Values:\")\n",
    "for key, value in critical_values.items():\n",
    "    print(f\"    {key}: {value}\")\n",
    "print(f\"AIC Value: {aic_value}\")\n"
   ]
  },
  {
   "cell_type": "markdown",
   "metadata": {},
   "source": [
    "## 6. Min-max Normalization"
   ]
  },
  {
   "cell_type": "code",
   "execution_count": null,
   "metadata": {},
   "outputs": [],
   "source": [
    "from sklearn.preprocessing import MinMaxScaler\n",
    "\n",
    "def standardize_data(data):\n",
    "    scaler = MinMaxScaler(feature_range=(-1,1))\n",
    "    data_norm = scaler.fit_transform(data)\n",
    "    return data_norm, scaler\n",
    "\n",
    "x1_norm, x1_scaler = standardize_data(data2_flat.reshape(-1,1))\n",
    "x2_norm, x2_scaler = standardize_data(data3_flat.reshape(-1,1))\n",
    "x3_norm, x3_scaler = standardize_data(data4_flat.reshape(-1,1))"
   ]
  },
  {
   "cell_type": "markdown",
   "metadata": {},
   "source": [
    "## 7. Data Splitting"
   ]
  },
  {
   "cell_type": "code",
   "execution_count": 11,
   "metadata": {},
   "outputs": [
    {
     "name": "stdout",
     "output_type": "stream",
     "text": [
      "WARNING:tensorflow:From c:\\Users\\rians\\AppData\\Local\\Programs\\Python\\Python39\\lib\\site-packages\\keras\\src\\backend.py:277: The name tf.reset_default_graph is deprecated. Please use tf.compat.v1.reset_default_graph instead.\n",
      "\n"
     ]
    }
   ],
   "source": [
    "N_FEATURES = 3\n",
    "SPLIT_TIME = 442\n",
    "data_train = data[:SPLIT_TIME]\n",
    "data_test = data[SPLIT_TIME:]\n",
    "train_dataset = tf.data.Dataset.from_tensor_slices(data_train)\n",
    "test_dataset = tf.data.Dataset.from_tensor_slices(data_test)"
   ]
  },
  {
   "cell_type": "markdown",
   "metadata": {},
   "source": [
    "## 8. Neural Network Architecture"
   ]
  },
  {
   "cell_type": "code",
   "execution_count": null,
   "metadata": {},
   "outputs": [],
   "source": [
    "def modelling(train_dataset, test_dataset, epoch, loss_function, metrics, optimizer, activation, hidden_node):\n",
    "        model = tf.keras.models.Sequential([\n",
    "                tf.keras.layers.Input(shape=(3,)),\n",
    "                tf.keras.layers.Dense(hidden_node, activation=activation),\n",
    "                tf.keras.layers.Dense(1)\n",
    "                ])\n",
    "        model.compile(loss=loss_function, optimizer=optimizer, metrics=[metrics])\n",
    "        history = model.fit(train_dataset, epochs=epoch, validation_data=test_dataset)\n",
    "        if __name__ == '__main__':\n",
    "                model.save(f\"model_{hidden_node}.h5\")\n",
    "        final_loss = history.history['loss'][-1]\n",
    "        weights = model.get_weights()\n",
    "        return final_loss, weights[0], weights[1], weights[2], weights[3]"
   ]
  },
  {
   "cell_type": "code",
   "execution_count": null,
   "metadata": {},
   "outputs": [],
   "source": [
    "model_sum = pd.DataFrame(columns=['mse', 'hl_weights', 'hl_bias', 'ol_weights', 'ol_bias'])\n",
    "for n in range(1, 21):\n",
    "    a,b,c,d,e = modelling(train_dataset=train_dataset, \n",
    "                            test_dataset=test_dataset,\n",
    "                            epoch=50, \n",
    "                            loss_function='mse',\n",
    "                            metrics = 'mae', \n",
    "                            optimizer=tf.keras.optimizers.RMSprop(learning_rate=0.001),\n",
    "                            activation='relu',\n",
    "                            hidden_node=n)\n",
    "    model_sum.loc[n] = [a,b,c,d,e]                "
   ]
  }
 ],
 "metadata": {
  "kernelspec": {
   "display_name": "Python 3",
   "language": "python",
   "name": "python3"
  },
  "language_info": {
   "codemirror_mode": {
    "name": "ipython",
    "version": 3
   },
   "file_extension": ".py",
   "mimetype": "text/x-python",
   "name": "python",
   "nbconvert_exporter": "python",
   "pygments_lexer": "ipython3",
   "version": "3.9.0"
  }
 },
 "nbformat": 4,
 "nbformat_minor": 2
}
