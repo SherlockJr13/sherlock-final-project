{
 "cells": [
  {
   "cell_type": "markdown",
   "metadata": {},
   "source": [
    "# PERBANDINGAN METODE KLASTER K-MEDOIDS DAN K-MEANS TERHADAP HASIL PERAMALAN KEMISKINAN DI INDONESIA MENGGUNAKAN BPNN\n",
    "### by Riansyah Fazar Ramadhan"
   ]
  },
  {
   "cell_type": "markdown",
   "metadata": {},
   "source": [
    "## 1. Import Dependencies"
   ]
  },
  {
   "cell_type": "code",
   "execution_count": 2,
   "metadata": {},
   "outputs": [
    {
     "name": "stdout",
     "output_type": "stream",
     "text": [
      "WARNING:tensorflow:From c:\\Users\\rians\\AppData\\Local\\Programs\\Python\\Python39\\lib\\site-packages\\keras\\src\\losses.py:2976: The name tf.losses.sparse_softmax_cross_entropy is deprecated. Please use tf.compat.v1.losses.sparse_softmax_cross_entropy instead.\n",
      "\n"
     ]
    }
   ],
   "source": [
    "import pandas as pd\n",
    "import numpy as np\n",
    "from scipy import stats\n",
    "import tensorflow as tf\n",
    "import matplotlib.pyplot as plt"
   ]
  },
  {
   "cell_type": "markdown",
   "metadata": {},
   "source": [
    "## 2. Data Preprocessing"
   ]
  },
  {
   "cell_type": "code",
   "execution_count": 3,
   "metadata": {},
   "outputs": [],
   "source": [
    "data1 = pd.read_excel(\"E:/AKTUARIA FINAL SEASON/DATA/fpdata.xlsx\", sheet_name=\"y\", index_col=0)\n",
    "data2 = pd.read_excel(\"E:/AKTUARIA FINAL SEASON/DATA/fpdata.xlsx\", sheet_name=\"x1\", index_col=0)\n",
    "data3 = pd.read_excel(\"E:/AKTUARIA FINAL SEASON/DATA/fpdata.xlsx\", sheet_name=\"x2\", index_col=0)\n",
    "data4 = pd.read_excel(\"E:/AKTUARIA FINAL SEASON/DATA/fpdata.xlsx\", sheet_name=\"x3\", index_col=0)\n",
    "\n",
    "y = np.array(data1)\n",
    "x1 = np.array(data2)\n",
    "x2 = np.array(data3)\n",
    "x3 = np.array(data4)\n",
    "\n",
    "data1_flat = data1.values.flatten()\n",
    "data2_flat = data2.values.flatten()\n",
    "data3_flat = data3.values.flatten()\n",
    "data4_flat = data4.values.flatten()"
   ]
  },
  {
   "cell_type": "code",
   "execution_count": 4,
   "metadata": {},
   "outputs": [
    {
     "data": {
      "text/html": [
       "<div>\n",
       "<style scoped>\n",
       "    .dataframe tbody tr th:only-of-type {\n",
       "        vertical-align: middle;\n",
       "    }\n",
       "\n",
       "    .dataframe tbody tr th {\n",
       "        vertical-align: top;\n",
       "    }\n",
       "\n",
       "    .dataframe thead th {\n",
       "        text-align: right;\n",
       "    }\n",
       "</style>\n",
       "<table border=\"1\" class=\"dataframe\">\n",
       "  <thead>\n",
       "    <tr style=\"text-align: right;\">\n",
       "      <th></th>\n",
       "      <th>y</th>\n",
       "      <th>x1</th>\n",
       "      <th>x2</th>\n",
       "      <th>x3</th>\n",
       "    </tr>\n",
       "  </thead>\n",
       "  <tbody>\n",
       "    <tr>\n",
       "      <th>0</th>\n",
       "      <td>17.080000</td>\n",
       "      <td>-1.970</td>\n",
       "      <td>7.73</td>\n",
       "      <td>0.334000</td>\n",
       "    </tr>\n",
       "    <tr>\n",
       "      <th>1</th>\n",
       "      <td>10.530000</td>\n",
       "      <td>4.990</td>\n",
       "      <td>6.39</td>\n",
       "      <td>0.336000</td>\n",
       "    </tr>\n",
       "    <tr>\n",
       "      <th>2</th>\n",
       "      <td>7.310000</td>\n",
       "      <td>5.625</td>\n",
       "      <td>5.99</td>\n",
       "      <td>0.342000</td>\n",
       "    </tr>\n",
       "    <tr>\n",
       "      <th>3</th>\n",
       "      <td>8.420000</td>\n",
       "      <td>-1.035</td>\n",
       "      <td>6.72</td>\n",
       "      <td>0.364000</td>\n",
       "    </tr>\n",
       "    <tr>\n",
       "      <th>4</th>\n",
       "      <td>8.860000</td>\n",
       "      <td>4.555</td>\n",
       "      <td>2.73</td>\n",
       "      <td>0.361000</td>\n",
       "    </tr>\n",
       "    <tr>\n",
       "      <th>...</th>\n",
       "      <td>...</td>\n",
       "      <td>...</td>\n",
       "      <td>...</td>\n",
       "      <td>...</td>\n",
       "    </tr>\n",
       "    <tr>\n",
       "      <th>607</th>\n",
       "      <td>11.636808</td>\n",
       "      <td>5.675</td>\n",
       "      <td>2.27</td>\n",
       "      <td>0.361471</td>\n",
       "    </tr>\n",
       "    <tr>\n",
       "      <th>608</th>\n",
       "      <td>16.256020</td>\n",
       "      <td>4.650</td>\n",
       "      <td>6.31</td>\n",
       "      <td>0.282647</td>\n",
       "    </tr>\n",
       "    <tr>\n",
       "      <th>609</th>\n",
       "      <td>6.512500</td>\n",
       "      <td>21.560</td>\n",
       "      <td>4.31</td>\n",
       "      <td>0.311061</td>\n",
       "    </tr>\n",
       "    <tr>\n",
       "      <th>610</th>\n",
       "      <td>20.156875</td>\n",
       "      <td>4.790</td>\n",
       "      <td>5.38</td>\n",
       "      <td>0.370000</td>\n",
       "    </tr>\n",
       "    <tr>\n",
       "      <th>611</th>\n",
       "      <td>26.030000</td>\n",
       "      <td>9.530</td>\n",
       "      <td>2.67</td>\n",
       "      <td>0.395824</td>\n",
       "    </tr>\n",
       "  </tbody>\n",
       "</table>\n",
       "<p>612 rows × 4 columns</p>\n",
       "</div>"
      ],
      "text/plain": [
       "             y      x1    x2        x3\n",
       "0    17.080000  -1.970  7.73  0.334000\n",
       "1    10.530000   4.990  6.39  0.336000\n",
       "2     7.310000   5.625  5.99  0.342000\n",
       "3     8.420000  -1.035  6.72  0.364000\n",
       "4     8.860000   4.555  2.73  0.361000\n",
       "..         ...     ...   ...       ...\n",
       "607  11.636808   5.675  2.27  0.361471\n",
       "608  16.256020   4.650  6.31  0.282647\n",
       "609   6.512500  21.560  4.31  0.311061\n",
       "610  20.156875   4.790  5.38  0.370000\n",
       "611  26.030000   9.530  2.67  0.395824\n",
       "\n",
       "[612 rows x 4 columns]"
      ]
     },
     "execution_count": 4,
     "metadata": {},
     "output_type": "execute_result"
    }
   ],
   "source": [
    "data = pd.DataFrame({\n",
    "    'y': data1_flat,\n",
    "    'x1': data2_flat,\n",
    "    'x2': data3_flat,\n",
    "    'x3': data4_flat\n",
    "})\n",
    "data"
   ]
  },
  {
   "cell_type": "markdown",
   "metadata": {},
   "source": [
    "## 3. Descriptive Stats"
   ]
  },
  {
   "cell_type": "code",
   "execution_count": 5,
   "metadata": {},
   "outputs": [
    {
     "data": {
      "text/html": [
       "<div>\n",
       "<style scoped>\n",
       "    .dataframe tbody tr th:only-of-type {\n",
       "        vertical-align: middle;\n",
       "    }\n",
       "\n",
       "    .dataframe tbody tr th {\n",
       "        vertical-align: top;\n",
       "    }\n",
       "\n",
       "    .dataframe thead th {\n",
       "        text-align: right;\n",
       "    }\n",
       "</style>\n",
       "<table border=\"1\" class=\"dataframe\">\n",
       "  <thead>\n",
       "    <tr style=\"text-align: right;\">\n",
       "      <th></th>\n",
       "      <th>y</th>\n",
       "      <th>x1</th>\n",
       "      <th>x2</th>\n",
       "      <th>x3</th>\n",
       "    </tr>\n",
       "  </thead>\n",
       "  <tbody>\n",
       "    <tr>\n",
       "      <th>count</th>\n",
       "      <td>612.000000</td>\n",
       "      <td>612.000000</td>\n",
       "      <td>612.000000</td>\n",
       "      <td>612.000000</td>\n",
       "    </tr>\n",
       "    <tr>\n",
       "      <th>mean</th>\n",
       "      <td>10.771365</td>\n",
       "      <td>4.553186</td>\n",
       "      <td>5.030539</td>\n",
       "      <td>0.352567</td>\n",
       "    </tr>\n",
       "    <tr>\n",
       "      <th>std</th>\n",
       "      <td>5.609865</td>\n",
       "      <td>4.048237</td>\n",
       "      <td>1.788318</td>\n",
       "      <td>0.040239</td>\n",
       "    </tr>\n",
       "    <tr>\n",
       "      <th>min</th>\n",
       "      <td>3.420000</td>\n",
       "      <td>-21.300000</td>\n",
       "      <td>0.880000</td>\n",
       "      <td>0.236000</td>\n",
       "    </tr>\n",
       "    <tr>\n",
       "      <th>25%</th>\n",
       "      <td>6.377500</td>\n",
       "      <td>3.530000</td>\n",
       "      <td>3.697500</td>\n",
       "      <td>0.324000</td>\n",
       "    </tr>\n",
       "    <tr>\n",
       "      <th>50%</th>\n",
       "      <td>9.035000</td>\n",
       "      <td>5.030000</td>\n",
       "      <td>4.655000</td>\n",
       "      <td>0.351000</td>\n",
       "    </tr>\n",
       "    <tr>\n",
       "      <th>75%</th>\n",
       "      <td>13.805000</td>\n",
       "      <td>5.765000</td>\n",
       "      <td>6.162500</td>\n",
       "      <td>0.381000</td>\n",
       "    </tr>\n",
       "    <tr>\n",
       "      <th>max</th>\n",
       "      <td>28.540000</td>\n",
       "      <td>25.860000</td>\n",
       "      <td>10.950000</td>\n",
       "      <td>0.459000</td>\n",
       "    </tr>\n",
       "  </tbody>\n",
       "</table>\n",
       "</div>"
      ],
      "text/plain": [
       "                y          x1          x2          x3\n",
       "count  612.000000  612.000000  612.000000  612.000000\n",
       "mean    10.771365    4.553186    5.030539    0.352567\n",
       "std      5.609865    4.048237    1.788318    0.040239\n",
       "min      3.420000  -21.300000    0.880000    0.236000\n",
       "25%      6.377500    3.530000    3.697500    0.324000\n",
       "50%      9.035000    5.030000    4.655000    0.351000\n",
       "75%     13.805000    5.765000    6.162500    0.381000\n",
       "max     28.540000   25.860000   10.950000    0.459000"
      ]
     },
     "execution_count": 5,
     "metadata": {},
     "output_type": "execute_result"
    }
   ],
   "source": [
    "desc_stat = data.describe()\n",
    "desc_stat"
   ]
  },
  {
   "cell_type": "code",
   "execution_count": 9,
   "metadata": {},
   "outputs": [],
   "source": [
    "writer = pd.ExcelWriter('pooled_data.xlsx', engine='xlsxwriter')\n",
    "with pd.ExcelWriter('pooled_data.xlsx', engine='xlsxwriter') as writer:\n",
    "    data.to_excel(writer, sheet_name='data', index=False)\n",
    "    desc_stat.to_excel(writer, sheet_name='desc_stat')"
   ]
  },
  {
   "cell_type": "code",
   "execution_count": 6,
   "metadata": {},
   "outputs": [
    {
     "data": {
      "image/png": "[encoded data removed]",
      "text/plain": [
       "<Figure size 640x480 with 1 Axes>"
      ]
     },
     "metadata": {},
     "output_type": "display_data"
    }
   ],
   "source": [
    "# Create a boxplot\n",
    "font_prop = {'family': 'Times New Roman', 'color': 'black', 'weight': 'normal', 'size': 12}\n",
    "plt.boxplot(data1.T)\n",
    "plt.xlabel('Periode', fontdict=font_prop)\n",
    "plt.ylabel('Tingkat Kemiskinan (%)', fontdict=font_prop)\n",
    "plt.show()"
   ]
  },
  {
   "cell_type": "code",
   "execution_count": 7,
   "metadata": {},
   "outputs": [
    {
     "data": {
      "image/png": "[encoded data removed]",
      "text/plain": [
       "<Figure size 640x480 with 1 Axes>"
      ]
     },
     "metadata": {},
     "output_type": "display_data"
    }
   ],
   "source": [
    "# Create a boxplot\n",
    "font_prop = {'family': 'Times New Roman', 'color': 'black', 'weight': 'normal', 'size': 12}\n",
    "plt.boxplot(data2.T)\n",
    "plt.xlabel('Periode', fontdict=font_prop)\n",
    "plt.ylabel('Tingkat Pertumbuhan Ekonomi (%)', fontdict=font_prop)\n",
    "plt.show()"
   ]
  },
  {
   "cell_type": "code",
   "execution_count": 8,
   "metadata": {},
   "outputs": [
    {
     "data": {
      "image/png": "[encoded data removed]",
      "text/plain": [
       "<Figure size 640x480 with 1 Axes>"
      ]
     },
     "metadata": {},
     "output_type": "display_data"
    }
   ],
   "source": [
    "# Create a boxplot\n",
    "font_prop = {'family': 'Times New Roman', 'color': 'black', 'weight': 'normal', 'size': 12}\n",
    "plt.boxplot(data3.T)\n",
    "plt.xlabel('Periode', fontdict=font_prop)\n",
    "plt.ylabel('Tingkat Pengangguran (%)', fontdict=font_prop)\n",
    "plt.show()"
   ]
  },
  {
   "cell_type": "code",
   "execution_count": 10,
   "metadata": {},
   "outputs": [
    {
     "data": {
      "image/png": "[encoded data removed]",
      "text/plain": [
       "<Figure size 640x480 with 1 Axes>"
      ]
     },
     "metadata": {},
     "output_type": "display_data"
    }
   ],
   "source": [
    "# Create a boxplot\n",
    "font_prop = {'family': 'Times New Roman', 'color': 'black', 'weight': 'normal', 'size': 12}\n",
    "plt.boxplot(data4.T)\n",
    "plt.xlabel('Periode', fontdict=font_prop)\n",
    "plt.ylabel('Rasio Gini', fontdict=font_prop)\n",
    "plt.show()"
   ]
  },
  {
   "cell_type": "markdown",
   "metadata": {},
   "source": [
    "## 4. Terasvirta Linearity Test\n",
    "#### Done in R language, check at terasvirtatest.R"
   ]
  },
  {
   "cell_type": "code",
   "execution_count": 17,
   "metadata": {},
   "outputs": [
    {
     "name": "stdout",
     "output_type": "stream",
     "text": [
      "Augmented Dickey-Fuller Test Results:\n",
      "ADF Statistic: -4.772954263742686\n",
      "p-value: 6.124907236888e-05\n",
      "Number of Lags Used: 18\n",
      "Number of Observations Used: 559\n",
      "Critical Values:\n",
      "    1%: -3.442102384299813\n",
      "    5%: -2.8667242618524233\n",
      "    10%: -2.569531046591633\n",
      "AIC Value: -2390.2334307351575\n"
     ]
    }
   ],
   "source": [
    "import statsmodels.api as sm\n",
    "\n",
    "# Perform ADF test\n",
    "adf_test = sm.tsa.adfuller(data4_flat)\n",
    "\n",
    "# Extracting the results\n",
    "adf_statistic = adf_test[0]\n",
    "p_value = adf_test[1]\n",
    "used_lag = adf_test[2]\n",
    "n_obs = adf_test[3]\n",
    "critical_values = adf_test[4]\n",
    "aic_value = adf_test[5]\n",
    "\n",
    "# Printing the results with labels\n",
    "print(\"Augmented Dickey-Fuller Test Results:\")\n",
    "print(f\"ADF Statistic: {adf_statistic}\")\n",
    "print(f\"p-value: {p_value}\")\n",
    "print(f\"Number of Lags Used: {used_lag}\")\n",
    "print(f\"Number of Observations Used: {n_obs}\")\n",
    "print(\"Critical Values:\")\n",
    "for key, value in critical_values.items():\n",
    "    print(f\"    {key}: {value}\")\n",
    "print(f\"AIC Value: {aic_value}\")\n"
   ]
  },
  {
   "cell_type": "markdown",
   "metadata": {},
   "source": [
    "## 6. Min-max Normalization"
   ]
  },
  {
   "cell_type": "code",
   "execution_count": null,
   "metadata": {},
   "outputs": [],
   "source": [
    "from sklearn.preprocessing import MinMaxScaler\n",
    "\n",
    "def standardize_data(data):\n",
    "    scaler = MinMaxScaler(feature_range=(-1,1))\n",
    "    data_norm = scaler.fit_transform(data)\n",
    "    return data_norm, scaler\n",
    "\n",
    "x1_norm, x1_scaler = standardize_data(data2_flat.reshape(-1,1))\n",
    "x2_norm, x2_scaler = standardize_data(data3_flat.reshape(-1,1))\n",
    "x3_norm, x3_scaler = standardize_data(data4_flat.reshape(-1,1))"
   ]
  },
  {
   "cell_type": "markdown",
   "metadata": {},
   "source": [
    "## 7. Data Splitting"
   ]
  },
  {
   "cell_type": "code",
   "execution_count": 11,
   "metadata": {},
   "outputs": [
    {
     "name": "stdout",
     "output_type": "stream",
     "text": [
      "WARNING:tensorflow:From c:\\Users\\rians\\AppData\\Local\\Programs\\Python\\Python39\\lib\\site-packages\\keras\\src\\backend.py:277: The name tf.reset_default_graph is deprecated. Please use tf.compat.v1.reset_default_graph instead.\n",
      "\n"
     ]
    }
   ],
   "source": [
    "N_FEATURES = 3\n",
    "SPLIT_TIME = 476\n",
    "data_train = data[:SPLIT_TIME]\n",
    "data_test = data[SPLIT_TIME:]\n",
    "train_set = tf.data.Dataset.from_tensor_slices(data_train)\n",
    "test_set = tf.data.Dataset.from_tensor_slices(data_test)"
   ]
  },
  {
   "cell_type": "markdown",
   "metadata": {},
   "source": [
    "## 8. Neural Network Architecture"
   ]
  },
  {
   "cell_type": "code",
   "execution_count": null,
   "metadata": {},
   "outputs": [],
   "source": [
    "def modelling(train_dataset, test_dataset, epoch, loss_function, optimizer, activation, hidden_node, replication):\n",
    "        model = tf.keras.models.Sequential([\n",
    "                tf.keras.layers.Input(shape=(3,)),\n",
    "                tf.keras.layers.Dense(hidden_node, activation=activation),\n",
    "                tf.keras.layers.Dense(1)\n",
    "                ])\n",
    "        model.compile(loss=loss_function, optimizer=optimizer)\n",
    "        early_stopping = tf.keras.callbacks.EarlyStopping(monitor='val_loss', patience=5, restore_best_weights=True)\n",
    "        history = model.fit(train_dataset, epochs=epoch, validation_data=test_dataset, callbacks=[early_stopping])\n",
    "        if __name__ == '__main__':\n",
    "                model.save(f\"model_x{data_index}_{replication}_{hidden_node}.h5\")\n",
    "        train_loss = history.history['loss'][-1]\n",
    "        test_loss = history.history['val_loss'][-1]\n",
    "        train_epoch = len(history.epoch)\n",
    "        weights = model.get_weights()\n",
    "        return train_loss, test_loss, train_epoch, weights[0], weights[1], weights[2], weights[3]"
   ]
  },
  {
   "cell_type": "code",
   "execution_count": null,
   "metadata": {},
   "outputs": [],
   "source": [
    "model_sum = pd.DataFrame(columns=['replication', 'hidden_node', 'train_mse', 'test_mse', 'epoch', 'hl_weights', 'hl_bias', 'ol_weights', 'ol_bias'])\n",
    "    for rep in range(1, 6):\n",
    "        iterasi = (rep - 1) * 20 + 1\n",
    "        for n in range(1, 21):\n",
    "            a,b,c,d,e,f,g = modelling(train_dataset=train_set, \n",
    "                                    test_dataset=test_set,\n",
    "                                    epoch=50, \n",
    "                                    loss_function='mse',\n",
    "                                    optimizer=tf.keras.optimizers.RMSprop(learning_rate=0.001),\n",
    "                                    activation='relu',\n",
    "                                    hidden_node=n,\n",
    "                                    replication=rep)\n",
    "            idx = iterasi + n\n",
    "            model_sum.loc[idx] = [rep,n,a,b,c,d,e,f,g]\n",
    "    model_sum.to_excel(f'main_model_summary.xlsx')               "
   ]
  }
 ],
 "metadata": {
  "kernelspec": {
   "display_name": "Python 3",
   "language": "python",
   "name": "python3"
  },
  "language_info": {
   "codemirror_mode": {
    "name": "ipython",
    "version": 3
   },
   "file_extension": ".py",
   "mimetype": "text/x-python",
   "name": "python",
   "nbconvert_exporter": "python",
   "pygments_lexer": "ipython3",
   "version": "3.9.0"
  }
 },
 "nbformat": 4,
 "nbformat_minor": 2
}
