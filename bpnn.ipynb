{
 "cells": [
  {
   "cell_type": "markdown",
   "metadata": {},
   "source": [
    "# PERBANDINGAN METODE KLASTER K-MEDOIDS DAN K-MEANS TERHADAP HASIL PERAMALAN KEMISKINAN DI INDONESIA MENGGUNAKAN BPNN\n",
    "### by Riansyah Fazar Ramadhan"
   ]
  },
  {
   "cell_type": "markdown",
   "metadata": {},
   "source": [
    "### 1. Import Dependencies"
   ]
  },
  {
   "cell_type": "code",
   "execution_count": 1,
   "metadata": {},
   "outputs": [],
   "source": [
    "import pandas as pd\n",
    "import numpy as np"
   ]
  },
  {
   "cell_type": "markdown",
   "metadata": {},
   "source": [
    "### 2. Data Preprocessing"
   ]
  },
  {
   "cell_type": "code",
   "execution_count": 10,
   "metadata": {},
   "outputs": [],
   "source": [
    "data1 = pd.read_excel(\"E:/AKTUARIA FINAL SEASON/DATA/fpdata.xlsx\", sheet_name=\"povt\", index_col=0)\n",
    "data2 = pd.read_excel(\"E:/AKTUARIA FINAL SEASON/DATA/fpdata.xlsx\", sheet_name=\"unemp\", index_col=0)\n",
    "data3 = pd.read_excel(\"E:/AKTUARIA FINAL SEASON/DATA/fpdata.xlsx\", sheet_name=\"growth\", index_col=0)\n",
    "data4 = pd.read_excel(\"E:/AKTUARIA FINAL SEASON/DATA/fpdata.xlsx\", sheet_name=\"gini\", index_col=0)\n",
    "\n",
    "data1.drop(columns=[\"Sep23\"], inplace=True)\n",
    "data2.drop(columns=[\"Agu23\"], inplace=True)\n",
    "data3.drop(columns=[\"Agu23\"], inplace=True)\n",
    "data4.drop(columns=[\"Sep23\"], inplace=True)\n",
    "\n",
    "data1 = np.array(data1)\n",
    "y_sets = data1.reshape(-1,1)"
   ]
  },
  {
   "cell_type": "code",
   "execution_count": null,
   "metadata": {},
   "outputs": [],
   "source": []
  }
 ],
 "metadata": {
  "kernelspec": {
   "display_name": "Python 3",
   "language": "python",
   "name": "python3"
  },
  "language_info": {
   "codemirror_mode": {
    "name": "ipython",
    "version": 3
   },
   "file_extension": ".py",
   "mimetype": "text/x-python",
   "name": "python",
   "nbconvert_exporter": "python",
   "pygments_lexer": "ipython3",
   "version": "3.9.0"
  }
 },
 "nbformat": 4,
 "nbformat_minor": 2
}
