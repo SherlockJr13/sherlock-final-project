{
 "cells": [
  {
   "cell_type": "markdown",
   "metadata": {},
   "source": [
    "# PERBANDINGAN METODE KLASTER K-MEDOIDS DAN K-MEANS TERHADAP HASIL PERAMALAN KEMISKINAN DI INDONESIA MENGGUNAKAN BPNN\n",
    "### by Riansyah Fazar Ramadhan"
   ]
  },
  {
   "cell_type": "markdown",
   "metadata": {},
   "source": [
    "### 1. Import Dependencies"
   ]
  },
  {
   "cell_type": "code",
   "execution_count": 1,
   "metadata": {},
   "outputs": [
    {
     "name": "stdout",
     "output_type": "stream",
     "text": [
      "WARNING:tensorflow:From c:\\Users\\rians\\AppData\\Local\\Programs\\Python\\Python39\\lib\\site-packages\\keras\\src\\losses.py:2976: The name tf.losses.sparse_softmax_cross_entropy is deprecated. Please use tf.compat.v1.losses.sparse_softmax_cross_entropy instead.\n",
      "\n"
     ]
    }
   ],
   "source": [
    "import pandas as pd\n",
    "import numpy as np\n",
    "from scipy import stats\n",
    "import tensorflow as tf\n",
    "from sklearn.model_selection import train_test_split"
   ]
  },
  {
   "cell_type": "markdown",
   "metadata": {},
   "source": [
    "### 2. Data Preprocessing"
   ]
  },
  {
   "cell_type": "code",
   "execution_count": 2,
   "metadata": {},
   "outputs": [],
   "source": [
    "data1 = pd.read_excel(\"E:/AKTUARIA FINAL SEASON/DATA/fpdata.xlsx\", sheet_name=\"povt\", index_col=0)\n",
    "data2 = pd.read_excel(\"E:/AKTUARIA FINAL SEASON/DATA/fpdata.xlsx\", sheet_name=\"unemp\", index_col=0)\n",
    "data3 = pd.read_excel(\"E:/AKTUARIA FINAL SEASON/DATA/fpdata.xlsx\", sheet_name=\"growth\", index_col=0)\n",
    "data4 = pd.read_excel(\"E:/AKTUARIA FINAL SEASON/DATA/fpdata.xlsx\", sheet_name=\"gini\", index_col=0)\n",
    "\n",
    "data1.drop(columns=[\"Sep23\"], inplace=True)\n",
    "data2.drop(columns=[\"Agu23\"], inplace=True)\n",
    "data3.drop(columns=[\"Agu23\"], inplace=True)\n",
    "data4.drop(columns=[\"Sep23\"], inplace=True)\n",
    "\n",
    "data1 = data1.transpose()\n",
    "data2 = data2.transpose()\n",
    "data3 = data3.transpose()\n",
    "data4 = data4.transpose()\n",
    "\n",
    "data2 = data2.values.flatten()\n",
    "data3 = data3.values.flatten()\n",
    "data4 = data4.values.flatten()\n",
    "\n",
    "y_sets = data1.values.flatten()\n",
    "xdf = pd.DataFrame({\n",
    "        'unemp': data2,\n",
    "        'growth': data3,\n",
    "        'gini': data4\n",
    "        })\n",
    "ydf= pd.DataFrame({'pov': y_sets})\n",
    "x_sets = np.array(xdf)"
   ]
  },
  {
   "cell_type": "markdown",
   "metadata": {},
   "source": [
    "### 3. Descriptive Statistic"
   ]
  },
  {
   "cell_type": "code",
   "execution_count": 7,
   "metadata": {},
   "outputs": [
    {
     "name": "stdout",
     "output_type": "stream",
     "text": [
      "            unemp      growth        gini\n",
      "count  578.000000  578.000000  578.000000\n",
      "mean     5.055052    4.499152    0.353097\n",
      "std      1.805693    4.086967    0.039766\n",
      "min      0.880000  -21.300000    0.236000\n",
      "25%      3.720000    3.321250    0.325000\n",
      "50%      4.680000    5.075000    0.351000\n",
      "75%      6.170000    5.773750    0.382000\n",
      "max     10.950000   25.860000    0.459000\n",
      "              pov\n",
      "count  578.000000\n",
      "mean    10.814758\n",
      "std      5.638554\n",
      "min      3.420000\n",
      "25%      6.387500\n",
      "50%      9.090000\n",
      "75%     13.845000\n",
      "max     28.540000\n"
     ]
    }
   ],
   "source": [
    "x_stats = xdf.describe()\n",
    "y_stats = ydf.describe()\n",
    "print(x_stats)\n",
    "print(y_stats)"
   ]
  },
  {
   "cell_type": "markdown",
   "metadata": {},
   "source": [
    "### 4. Data Preprocessing (Min-Max Normalization)"
   ]
  },
  {
   "cell_type": "code",
   "execution_count": 10,
   "metadata": {},
   "outputs": [],
   "source": [
    "from sklearn.preprocessing import MinMaxScaler\n",
    "\n",
    "scaler = MinMaxScaler()\n",
    "y_norm = scaler.fit_transform(ydf)\n",
    "x_norm = scaler.fit_transform(xdf)"
   ]
  }
 ],
 "metadata": {
  "kernelspec": {
   "display_name": "Python 3",
   "language": "python",
   "name": "python3"
  },
  "language_info": {
   "codemirror_mode": {
    "name": "ipython",
    "version": 3
   },
   "file_extension": ".py",
   "mimetype": "text/x-python",
   "name": "python",
   "nbconvert_exporter": "python",
   "pygments_lexer": "ipython3",
   "version": "3.9.0"
  }
 },
 "nbformat": 4,
 "nbformat_minor": 2
}
